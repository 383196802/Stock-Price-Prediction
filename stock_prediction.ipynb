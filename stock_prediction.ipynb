{
 "cells": [
  {
   "cell_type": "code",
   "execution_count": 1,
   "metadata": {},
   "outputs": [],
   "source": [
    "# the list of files need to be import\n",
    "import talib as ta\n",
    "import pandas as pd\n",
    "import mplfinance as mpf\n",
    "import numpy as np\n",
    "import uuid\n",
    "import os\n",
    "import torch\n",
    "import torch.nn as nn\n",
    "import torchvision\n",
    "import torch.nn.functional as F\n",
    "import cv2\n",
    "import matplotlib.pyplot as plt\n",
    "from torch.utils.data import DataLoader,random_split,Dataset\n",
    "from torchvision.transforms import transforms as T\n",
    "from sklearn.model_selection import train_test_split\n",
    "from torch import optim\n",
    "from PIL import Image\n",
    "import torchvision.models as models\n",
    "from tqdm.notebook import tqdm\n",
    "from torchvision.datasets import ImageFolder\n",
    "pd.options.mode.chained_assignment = None"
   ]
  },
  {
   "cell_type": "code",
   "execution_count": 2,
   "metadata": {},
   "outputs": [],
   "source": [
    "# read the csv file and process to get all indicators we need\n",
    "candle_data_2000=pd.read_csv(\"SPY_new.csv\", header=0, infer_datetime_format=True, parse_dates=True)\n",
    "candle_data_2000['RSI'] = ta.RSI(candle_data_2000.Close, timeperiod=20)\n",
    "candle_data_2000['CCI'] = ta.CCI(candle_data_2000.High, candle_data_2000.Low, candle_data_2000.Close, timeperiod=20)\n",
    "candle_data_2000['WILLR'] = ta.WILLR(candle_data_2000.High, candle_data_2000.Low, candle_data_2000.Close, timeperiod=20)\n",
    "candle_data_2000=candle_data_2000.drop([\"Adj Close\"], axis=1)\n",
    "candle_data_2000['Date']=pd.to_datetime(candle_data_2000['Date']) "
   ]
  },
  {
   "cell_type": "code",
   "execution_count": 3,
   "metadata": {},
   "outputs": [
    {
     "data": {
      "text/html": [
       "<div>\n",
       "<style scoped>\n",
       "    .dataframe tbody tr th:only-of-type {\n",
       "        vertical-align: middle;\n",
       "    }\n",
       "\n",
       "    .dataframe tbody tr th {\n",
       "        vertical-align: top;\n",
       "    }\n",
       "\n",
       "    .dataframe thead th {\n",
       "        text-align: right;\n",
       "    }\n",
       "</style>\n",
       "<table border=\"1\" class=\"dataframe\">\n",
       "  <thead>\n",
       "    <tr style=\"text-align: right;\">\n",
       "      <th></th>\n",
       "      <th>Date</th>\n",
       "      <th>Open</th>\n",
       "      <th>High</th>\n",
       "      <th>Low</th>\n",
       "      <th>Close</th>\n",
       "      <th>Volume</th>\n",
       "      <th>RSI</th>\n",
       "      <th>CCI</th>\n",
       "      <th>WILLR</th>\n",
       "    </tr>\n",
       "  </thead>\n",
       "  <tbody>\n",
       "    <tr>\n",
       "      <th>0</th>\n",
       "      <td>1995-01-03</td>\n",
       "      <td>45.703125</td>\n",
       "      <td>45.843750</td>\n",
       "      <td>45.687500</td>\n",
       "      <td>45.781250</td>\n",
       "      <td>324300</td>\n",
       "      <td>NaN</td>\n",
       "      <td>NaN</td>\n",
       "      <td>NaN</td>\n",
       "    </tr>\n",
       "    <tr>\n",
       "      <th>1</th>\n",
       "      <td>1995-01-04</td>\n",
       "      <td>45.984375</td>\n",
       "      <td>46.000000</td>\n",
       "      <td>45.750000</td>\n",
       "      <td>46.000000</td>\n",
       "      <td>351800</td>\n",
       "      <td>NaN</td>\n",
       "      <td>NaN</td>\n",
       "      <td>NaN</td>\n",
       "    </tr>\n",
       "    <tr>\n",
       "      <th>2</th>\n",
       "      <td>1995-01-05</td>\n",
       "      <td>46.031250</td>\n",
       "      <td>46.109375</td>\n",
       "      <td>45.953125</td>\n",
       "      <td>46.000000</td>\n",
       "      <td>89800</td>\n",
       "      <td>NaN</td>\n",
       "      <td>NaN</td>\n",
       "      <td>NaN</td>\n",
       "    </tr>\n",
       "    <tr>\n",
       "      <th>3</th>\n",
       "      <td>1995-01-06</td>\n",
       "      <td>46.093750</td>\n",
       "      <td>46.250000</td>\n",
       "      <td>45.906250</td>\n",
       "      <td>46.046875</td>\n",
       "      <td>448400</td>\n",
       "      <td>NaN</td>\n",
       "      <td>NaN</td>\n",
       "      <td>NaN</td>\n",
       "    </tr>\n",
       "    <tr>\n",
       "      <th>4</th>\n",
       "      <td>1995-01-09</td>\n",
       "      <td>46.031250</td>\n",
       "      <td>46.093750</td>\n",
       "      <td>46.000000</td>\n",
       "      <td>46.093750</td>\n",
       "      <td>36800</td>\n",
       "      <td>NaN</td>\n",
       "      <td>NaN</td>\n",
       "      <td>NaN</td>\n",
       "    </tr>\n",
       "    <tr>\n",
       "      <th>...</th>\n",
       "      <td>...</td>\n",
       "      <td>...</td>\n",
       "      <td>...</td>\n",
       "      <td>...</td>\n",
       "      <td>...</td>\n",
       "      <td>...</td>\n",
       "      <td>...</td>\n",
       "      <td>...</td>\n",
       "      <td>...</td>\n",
       "    </tr>\n",
       "    <tr>\n",
       "      <th>6288</th>\n",
       "      <td>2019-12-23</td>\n",
       "      <td>321.589996</td>\n",
       "      <td>321.649994</td>\n",
       "      <td>321.059998</td>\n",
       "      <td>321.220001</td>\n",
       "      <td>52990000</td>\n",
       "      <td>70.877217</td>\n",
       "      <td>127.122006</td>\n",
       "      <td>-5.053910</td>\n",
       "    </tr>\n",
       "    <tr>\n",
       "      <th>6289</th>\n",
       "      <td>2019-12-24</td>\n",
       "      <td>321.470001</td>\n",
       "      <td>321.519989</td>\n",
       "      <td>320.899994</td>\n",
       "      <td>321.230011</td>\n",
       "      <td>20270000</td>\n",
       "      <td>70.890745</td>\n",
       "      <td>108.966115</td>\n",
       "      <td>-4.986457</td>\n",
       "    </tr>\n",
       "    <tr>\n",
       "      <th>6290</th>\n",
       "      <td>2019-12-26</td>\n",
       "      <td>321.649994</td>\n",
       "      <td>322.950012</td>\n",
       "      <td>321.640015</td>\n",
       "      <td>322.940002</td>\n",
       "      <td>30911200</td>\n",
       "      <td>73.134830</td>\n",
       "      <td>118.875674</td>\n",
       "      <td>-0.063274</td>\n",
       "    </tr>\n",
       "    <tr>\n",
       "      <th>6291</th>\n",
       "      <td>2019-12-27</td>\n",
       "      <td>323.739990</td>\n",
       "      <td>323.799988</td>\n",
       "      <td>322.279999</td>\n",
       "      <td>322.859985</td>\n",
       "      <td>42528800</td>\n",
       "      <td>72.858167</td>\n",
       "      <td>111.851018</td>\n",
       "      <td>-5.638896</td>\n",
       "    </tr>\n",
       "    <tr>\n",
       "      <th>6292</th>\n",
       "      <td>2019-12-30</td>\n",
       "      <td>322.950012</td>\n",
       "      <td>323.100006</td>\n",
       "      <td>320.549988</td>\n",
       "      <td>321.079987</td>\n",
       "      <td>49729100</td>\n",
       "      <td>66.929486</td>\n",
       "      <td>78.004450</td>\n",
       "      <td>-16.316759</td>\n",
       "    </tr>\n",
       "  </tbody>\n",
       "</table>\n",
       "<p>6293 rows × 9 columns</p>\n",
       "</div>"
      ],
      "text/plain": [
       "           Date        Open        High         Low       Close    Volume  \\\n",
       "0    1995-01-03   45.703125   45.843750   45.687500   45.781250    324300   \n",
       "1    1995-01-04   45.984375   46.000000   45.750000   46.000000    351800   \n",
       "2    1995-01-05   46.031250   46.109375   45.953125   46.000000     89800   \n",
       "3    1995-01-06   46.093750   46.250000   45.906250   46.046875    448400   \n",
       "4    1995-01-09   46.031250   46.093750   46.000000   46.093750     36800   \n",
       "...         ...         ...         ...         ...         ...       ...   \n",
       "6288 2019-12-23  321.589996  321.649994  321.059998  321.220001  52990000   \n",
       "6289 2019-12-24  321.470001  321.519989  320.899994  321.230011  20270000   \n",
       "6290 2019-12-26  321.649994  322.950012  321.640015  322.940002  30911200   \n",
       "6291 2019-12-27  323.739990  323.799988  322.279999  322.859985  42528800   \n",
       "6292 2019-12-30  322.950012  323.100006  320.549988  321.079987  49729100   \n",
       "\n",
       "            RSI         CCI      WILLR  \n",
       "0           NaN         NaN        NaN  \n",
       "1           NaN         NaN        NaN  \n",
       "2           NaN         NaN        NaN  \n",
       "3           NaN         NaN        NaN  \n",
       "4           NaN         NaN        NaN  \n",
       "...         ...         ...        ...  \n",
       "6288  70.877217  127.122006  -5.053910  \n",
       "6289  70.890745  108.966115  -4.986457  \n",
       "6290  73.134830  118.875674  -0.063274  \n",
       "6291  72.858167  111.851018  -5.638896  \n",
       "6292  66.929486   78.004450 -16.316759  \n",
       "\n",
       "[6293 rows x 9 columns]"
      ]
     },
     "execution_count": 3,
     "metadata": {},
     "output_type": "execute_result"
    }
   ],
   "source": [
    "candle_data_2000"
   ]
  },
  {
   "cell_type": "code",
   "execution_count": 4,
   "metadata": {},
   "outputs": [],
   "source": [
    "# create the monthly candle stick graphs for each year\n",
    "path_to_images=\"./images/\"\n",
    "\n",
    "candle_data_2000=candle_data_2000.set_index('Date')\n",
    "result=pd.DataFrame(columns=['id','target'])\n",
    "\n",
    "#----------Run the following code to form monthly candle stick graphs for each year--------\n",
    "years=[1995,1996,1997,1998,1999,2000,2001,2002,2003,2004,2005,2006,2007,2008,2009,2010,2011,2012,2013,2014,2015,2016,2017,2018,2019]\n",
    "# dict_={'Jun':30,'Jul':31,'Aug':31,'Sep':30,'Oct':31,'Nov':30,'Dec':31}\n",
    "# dict_={'Jan':29}\n",
    "dict_={'Jan':31,'Feb':28,'Mar':31,'Apr':30,'May':31,'Jun':30,'Jul':31,'Aug':31,'Sep':30,'Oct':31,'Nov':30,'Dec':31}\n",
    "\n",
    "for year in years:\n",
    "    for key,value in dict_.items():\n",
    "        start_date='{}-{}-01'.format(year,key)\n",
    "        end_date='{}-{}-{}'.format(year,key,value)\n",
    "        candle_month=candle_data_2000.loc[start_date:end_date]\n",
    "        \n",
    "        close=candle_month.Close\n",
    "        n=candle_month.shape[0]\n",
    "        if close[n-1]>=close[n-2]:\n",
    "            target=1\n",
    "        else:\n",
    "            target=0\n",
    "        candle_month['RSI'] = (candle_month['RSI'] - candle_month['RSI'].min()) / (candle_month['RSI'].max() - candle_month['RSI'].min())\n",
    "        candle_month['CCI'] = (candle_month['CCI'] - candle_month['CCI'].min()) / (candle_month['CCI'].max() - candle_month['CCI'].min())\n",
    "        candle_month['WILLR'] = (candle_month['WILLR'] - candle_month['WILLR'].min()) / (candle_month['WILLR'].max() - candle_month['WILLR'].min())\n",
    "        fig_id_=str(uuid.uuid4())\n",
    "        result=result.append({\"id\":fig_id_+\".png\",\"target\":target}, ignore_index=True)\n",
    "        \n",
    "        save = dict(fname=path_to_images+fig_id_+\".png\",bbox_inches='tight',pad_inches=0)\n",
    "        apdict = [mpf.make_addplot(candle_month[\"RSI\"], color='r',secondary_y=True),\n",
    "                 mpf.make_addplot(candle_month[\"CCI\"], color='g', secondary_y=True),\n",
    "                 mpf.make_addplot(candle_month[\"WILLR\"], color='b', secondary_y=True)]\n",
    "#         apdict = mpf.make_addplot(candle_month[\"RSI\"])\n",
    "        # addplot=apdict\n",
    "        mpf.plot(candle_month[-n:], type=\"candlestick\",volume=True,mav=(3, 6, 9),figratio=(10,10),ylabel='',addplot=apdict,show_nontrading =False,savefig=save )\n",
    "        fig_id_=\"\"\n",
    "        target=\"\"\n",
    "        del candle_month\n",
    "# del result\n",
    "\n",
    "#------------Saving the results in .csv------------\n",
    "#---------------Must be run after the generation of all candle stick images\n",
    "result.to_csv(\"results.csv\", index=False)"
   ]
  },
  {
   "cell_type": "code",
   "execution_count": 5,
   "metadata": {},
   "outputs": [],
   "source": [
    "# read the csv\n",
    "df = pd.read_csv(\"results.csv\")\n",
    "# split into train and validation sets\n",
    "train_df, val_df = train_test_split(df, test_size=0.2, shuffle=True)"
   ]
  },
  {
   "cell_type": "code",
   "execution_count": 6,
   "metadata": {},
   "outputs": [
    {
     "data": {
      "text/plain": [
       "((60, 2), (240, 2))"
      ]
     },
     "execution_count": 6,
     "metadata": {},
     "output_type": "execute_result"
    }
   ],
   "source": [
    "val_df.shape, train_df.shape"
   ]
  },
  {
   "cell_type": "code",
   "execution_count": 7,
   "metadata": {},
   "outputs": [],
   "source": [
    "# create image dataset\n",
    "class myDataset(Dataset):\n",
    "    def __init__(self, df, transform=None):\n",
    "        self.transform = transform\n",
    "        self.df = df\n",
    "    def __len__(self):\n",
    "        return len(self.df)\n",
    "    def __getitem__(self, index):\n",
    "        image_path = './images'\n",
    "        path = os.path.join(image_path,self.df.iloc[index].id)\n",
    "        label = self.df.iloc[index].target\n",
    "        img = cv2.imread(path)\n",
    "        img = cv2.cvtColor(img, cv2.COLOR_BGR2RGB)\n",
    "        ymin = 0\n",
    "        ymax = 400\n",
    "        xmin = 85\n",
    "        xmax = 500\n",
    "        img = img[ymin:ymax,xmin:xmax,:]\n",
    "        img = Image.fromarray(np.uint8(img))\n",
    "        if self.transform is not None:\n",
    "            img = self.transform(img)\n",
    "        return img,label"
   ]
  },
  {
   "cell_type": "code",
   "execution_count": 8,
   "metadata": {},
   "outputs": [],
   "source": [
    "# make general transformation of the original images\n",
    "image_length = 224\n",
    "val_transform = T.Compose([T.Resize((image_length,image_length)),\n",
    "                    T.ToTensor(),\n",
    "                    T.Normalize(mean=[0.485, 0.456, 0.406],std=[0.229, 0.224, 0.225])]\n",
    "                         )\n",
    "train_transform=T.Compose([\n",
    "#                     T.RandomResizedCrop(image_length),\n",
    "#                     T.RandomHorizontalFlip(),\n",
    "#                     T.RandomCrop(224, padding=2, padding_mode='reflect'),\n",
    "#                     T.RandomRotation(degrees=20),\n",
    "                    \n",
    "                    T.Resize((image_length,image_length)),\n",
    "                    T.ToTensor(),\n",
    "                    T.Normalize(mean=[0.485, 0.456, 0.406],std=[0.229, 0.224, 0.225])]\n",
    "                         )"
   ]
  },
  {
   "cell_type": "code",
   "execution_count": 9,
   "metadata": {},
   "outputs": [],
   "source": [
    "# the transformation when we apply LSTM only\n",
    "image_length = 224\n",
    "val_transform_gray = T.Compose([T.Grayscale(num_output_channels=1),\n",
    "                    T.Resize((image_length,image_length)),\n",
    "                    T.ToTensor(),\n",
    "                    T.Normalize(mean=[0.5],std=[0.5])]\n",
    "                         )\n",
    "train_transform_gray=T.Compose([T.Grayscale(num_output_channels=1),                  \n",
    "                    T.Resize((image_length,image_length)),\n",
    "                    T.ToTensor(),\n",
    "                    T.Normalize(mean=[0.5],std=[0.5])]\n",
    "                         )"
   ]
  },
  {
   "cell_type": "code",
   "execution_count": 10,
   "metadata": {},
   "outputs": [
    {
     "data": {
      "text/plain": [
       "(240, 60)"
      ]
     },
     "execution_count": 10,
     "metadata": {},
     "output_type": "execute_result"
    }
   ],
   "source": [
    "# create dataset and load data\n",
    "train_dataset = myDataset(train_df,train_transform)\n",
    "val_dataset = myDataset(val_df,val_transform)\n",
    "train_dataloader = DataLoader(train_dataset,batch_size = 16)\n",
    "val_dataloader = DataLoader(val_dataset,batch_size = 16)\n",
    "len(train_dataset), len(val_dataset)"
   ]
  },
  {
   "cell_type": "code",
   "execution_count": 11,
   "metadata": {},
   "outputs": [
    {
     "name": "stderr",
     "output_type": "stream",
     "text": [
      "Clipping input data to the valid range for imshow with RGB data ([0..1] for floats or [0..255] for integers).\n"
     ]
    },
    {
     "data": {
      "text/plain": [
       "<matplotlib.image.AxesImage at 0x2ebe32a43a0>"
      ]
     },
     "execution_count": 11,
     "metadata": {},
     "output_type": "execute_result"
    },
    {
     "data": {
      "image/png": "[encoded data removed]",
      "text/plain": [
       "<Figure size 432x288 with 1 Axes>"
      ]
     },
     "metadata": {
      "needs_background": "light"
     },
     "output_type": "display_data"
    }
   ],
   "source": [
    "# example of our candle stick images\n",
    "img,label = train_dataset.__getitem__(0)\n",
    "plt.imshow(img.permute(1,2,0))"
   ]
  },
  {
   "cell_type": "code",
   "execution_count": 12,
   "metadata": {},
   "outputs": [],
   "source": []
  },
  {
   "cell_type": "code",
   "execution_count": 13,
   "metadata": {},
   "outputs": [],
   "source": [
    "# the googlenet model\n",
    "class GoogleNet(nn.Module):\n",
    "    def __init__(self, num_classes=2, pretrained = True):\n",
    "        super(GoogleNet, self).__init__()\n",
    "        self.net = models.googlenet(pretrained=pretrained)\n",
    "        num_ftrs = self.net.fc.in_features\n",
    "        self.net.fc = nn.Sequential(\n",
    "            nn.Linear(num_ftrs, num_classes, bias=True),\n",
    "        )\n",
    "\n",
    "    def forward(self, x):\n",
    "        return self.net(x)"
   ]
  },
  {
   "cell_type": "code",
   "execution_count": 14,
   "metadata": {},
   "outputs": [],
   "source": [
    "# the CNN model\n",
    "class CNN(nn.Module):\n",
    "    def __init__(self, num_classes=2):\n",
    "        super(CNN, self).__init__()\n",
    "        self.network = nn.Sequential(\n",
    "            nn.Conv2d(3, 64, 3, stride=1, padding=1),   # 224 * 244 * 64\n",
    "            nn.BatchNorm2d(64),\n",
    "            nn.ReLU(inplace=True),                                   \n",
    "            nn.MaxPool2d(4, 4),                         # 56 * 56 * 64\n",
    "\n",
    "            nn.Conv2d(64, 128, 3, stride=1, padding=1),    # 56 * 56* 128\n",
    "            nn.BatchNorm2d(128),\n",
    "            nn.ReLU(inplace=True),\n",
    "            nn.MaxPool2d(4,4),                          # 14 * 14* 128\n",
    "\n",
    "            nn.Conv2d(128, 256, 3, stride=1, padding=1),   # 14*14*256\n",
    "            nn.BatchNorm2d(256),\n",
    "            nn.ReLU(inplace=True),\n",
    "            nn.MaxPool2d(2,2),                        # 7*7*256\n",
    "            \n",
    "            nn.Flatten(),\n",
    "            nn.Linear(7*7*256, 512),\n",
    "            nn.ReLU(True),\n",
    "            nn.Linear(512, 128),\n",
    "            nn.ReLU(True),\n",
    "            nn.Linear(128, num_classes))\n",
    "\n",
    "            \n",
    "    def forward(self, x):\n",
    "        return self.network(x)\n",
    "        "
   ]
  },
  {
   "cell_type": "code",
   "execution_count": 15,
   "metadata": {},
   "outputs": [],
   "source": [
    "# the Resnet model\n",
    "class ResNet(nn.Module):\n",
    "    def __init__(self, num_classes=2, pretrained = True):\n",
    "        super(ResNet, self).__init__()\n",
    "        self.net = models.resnet50(pretrained=pretrained)\n",
    "        num_ftrs = self.net.fc.in_features\n",
    "        self.net.fc = nn.Sequential(\n",
    "            nn.Linear(num_ftrs, num_classes),\n",
    "        )\n",
    "\n",
    "    def forward(self, x):\n",
    "        return self.net(x)"
   ]
  },
  {
   "cell_type": "code",
   "execution_count": 16,
   "metadata": {},
   "outputs": [],
   "source": [
    "# the CNNwith LSTM model\n",
    "class CNNwithLSTM(nn.Module):\n",
    "    def __init__(self, num_classes=2):\n",
    "        super(CNNwithLSTM, self).__init__()\n",
    "        self.layer1 = nn.Sequential(\n",
    "            nn.Conv2d(3, 64, kernel_size=3, padding=1),\n",
    "            nn.ReLU(),\n",
    "            nn.MaxPool2d((2,2)))\n",
    "        self.layer2 = nn.Sequential(\n",
    "            nn.Conv2d(64, 64, kernel_size=3, padding=1),\n",
    "            nn.ReLU(),\n",
    "            nn.MaxPool2d((2,2)))\n",
    "        \n",
    "        self.lstm = nn.LSTM(64, 128, 2, batch_first=True)\n",
    "        self.fc = nn.Linear(128, num_classes)\n",
    "        \n",
    "    def forward(self, x):\n",
    "        x = self.layer1(x)\n",
    "        #x = x.permute(0, 3, 1, 2)\n",
    "        x = self.layer2(x)\n",
    "        x = x.view(x.size(0), x.size(1), -1)\n",
    "        x = x.permute(0,2,1)\n",
    "        x, _ = self.lstm(x)\n",
    "        x = x[:, -1, :]\n",
    "        x = self.fc(x)\n",
    "        return x"
   ]
  },
  {
   "cell_type": "code",
   "execution_count": 17,
   "metadata": {},
   "outputs": [],
   "source": [
    "# LSTM model\n",
    "class LSTMnet(nn.Module):\n",
    "    def __init__(self, in_dim, hidden_dim, n_layer, n_class):\n",
    "        super(LSTMnet, self).__init__()\n",
    "        self.n_layer = n_layer\n",
    "        self.hidden_dim = hidden_dim\n",
    "        self.lstm = nn.LSTM(in_dim, hidden_dim, n_layer, batch_first=True)\n",
    "        self.linear = nn.Linear(hidden_dim, n_class)\n",
    " \n",
    "    def forward(self, x):                  \n",
    "        out, _ = self.lstm(x)              \n",
    "        out = out[:, -1, :]                                           \n",
    "        out = self.linear(out)             \n",
    "        return out"
   ]
  },
  {
   "cell_type": "code",
   "execution_count": 18,
   "metadata": {},
   "outputs": [],
   "source": [
    "# VGGnet model\n",
    "class VGGNet(nn.Module):\n",
    "    def __init__(self, num_classes=2, pretrained = True):\n",
    "        super(VGGNet, self).__init__()\n",
    "        net = models.vgg16_bn(pretrained=pretrained)\n",
    "#         pre=torch.load('vgg16_bn-6c64b313.pth')\n",
    "#         net.load_state_dict(pre)\n",
    "        net.classifier = nn.Sequential()\n",
    "        self.features = net\n",
    "        self.classifier = nn.Sequential(\n",
    "                nn.Linear(512 * 7 * 7, 512),\n",
    "                nn.ReLU(True),\n",
    "                nn.Dropout(),\n",
    "                nn.Linear(512, 128),\n",
    "                nn.ReLU(True),\n",
    "                nn.Dropout(),\n",
    "                nn.Linear(128, num_classes),\n",
    "        )\n",
    "\n",
    "    def forward(self, x):\n",
    "        x = self.features(x)\n",
    "        x = x.view(x.size(0), -1)\n",
    "        x = self.classifier(x)\n",
    "        return x"
   ]
  },
  {
   "cell_type": "code",
   "execution_count": 19,
   "metadata": {},
   "outputs": [],
   "source": [
    "# get the accuracy between two batchs\n",
    "def accuracy(output, labels):\n",
    "    pred = torch.max(output, dim=1)[1]\n",
    "    return (pred == labels).sum().item()/ len(labels)"
   ]
  },
  {
   "cell_type": "code",
   "execution_count": 20,
   "metadata": {},
   "outputs": [],
   "source": [
    "# for each epoch we train the model\n",
    "def train_epoch(model, train_dataloader, optimizer, loss_func, train_loss_list, train_accuracy_list,lstm=False):\n",
    "    train_loss = 0.\n",
    "    train_acc = 0.\n",
    "    model.train()\n",
    "    for batch_x, batch_y in tqdm(train_dataloader):\n",
    "        batch_x = batch_x.to(device)\n",
    "        batch_y = batch_y.to(device)\n",
    "        if lstm:\n",
    "            batch_x = batch_x.reshape(-1,224,224)\n",
    "        out = model(batch_x)\n",
    "        loss = loss_func(out, batch_y)\n",
    "        train_loss += loss.item()\n",
    "        train_acc += accuracy(out, batch_y)\n",
    "        optimizer.zero_grad()\n",
    "        loss.backward()\n",
    "        optimizer.step()\n",
    "    print('Train Loss: {:.6f}, Acc: {:.6f}'.format(train_loss / (len(\n",
    "    train_dataloader)), train_acc / (len(train_dataloader))))\n",
    "    train_loss_list.append(train_loss / (len(train_dataloader)))\n",
    "    train_accuracy_list.append(train_acc / (len(train_dataloader)))\n",
    "    return train_loss_list, train_accuracy_list"
   ]
  },
  {
   "cell_type": "code",
   "execution_count": 21,
   "metadata": {},
   "outputs": [],
   "source": [
    "# for each epoch we validate and save the best weight\n",
    "def val_epoch(model, test_dataloader, optimizer, loss_func, test_loss_list, test_accuracy_list, best_test_accuracy, weight_path,lstm=False):\n",
    "    model.eval()\n",
    "    with torch.no_grad():\n",
    "        test_loss = 0.\n",
    "        test_acc = 0.\n",
    "        for batch_x, batch_y in tqdm(test_dataloader):\n",
    "            batch_x = batch_x.to(device)\n",
    "            batch_y = batch_y.to(device)\n",
    "            if lstm:\n",
    "                batch_x = batch_x.reshape(-1,224,224)\n",
    "            out = model(batch_x)\n",
    "            loss = loss_func(out, batch_y)\n",
    "            test_loss += loss.item()\n",
    "            test_acc += accuracy(out, batch_y)\n",
    "        print('Test Loss: {:.6f}, Acc: {:.6f}'.format(test_loss / (len(\n",
    "        test_dataloader)), test_acc / (len(test_dataloader))))\n",
    "        test_loss_list.append(test_loss / (len(test_dataloader)))\n",
    "        test_accuracy_list.append(test_acc / (len(test_dataloader)))\n",
    "        if (test_acc / (len(test_dataloader))) > best_test_accuracy:\n",
    "            best_test_accuracy = test_acc / (len(test_dataloader))\n",
    "            torch.save(model.state_dict(),weight_path)\n",
    "    return test_loss_list, test_accuracy_list, best_test_accuracy"
   ]
  },
  {
   "cell_type": "code",
   "execution_count": 22,
   "metadata": {},
   "outputs": [],
   "source": [
    "# print(CNNwithLSTM())"
   ]
  },
  {
   "cell_type": "code",
   "execution_count": 23,
   "metadata": {},
   "outputs": [],
   "source": [
    "# after we train every epoch, we test using our validation set\n",
    "def test_result(model, test_dataloader, weight_path):\n",
    "    model.eval()\n",
    "    with torch.no_grad():\n",
    "        model.load_state_dict(torch.load(weight_path))\n",
    "        test_acc = 0.\n",
    "        for batch_x, batch_y in tqdm(test_dataloader):\n",
    "            batch_x = batch_x.to(device)\n",
    "            batch_y = batch_y.to(device)\n",
    "            out = model(batch_x)\n",
    "            test_acc += accuracy(out, batch_y)\n",
    "        print('Test Acc: {:.6f}'.format(test_acc / (len(test_dataloader))))"
   ]
  },
  {
   "cell_type": "code",
   "execution_count": 26,
   "metadata": {},
   "outputs": [
    {
     "name": "stdout",
     "output_type": "stream",
     "text": [
      "epoch 1\n"
     ]
    },
    {
     "data": {
      "application/vnd.jupyter.widget-view+json": {
       "model_id": "a2afc651c0474f498dfb64baf480b72d",
       "version_major": 2,
       "version_minor": 0
      },
      "text/plain": [
       "HBox(children=(FloatProgress(value=0.0, max=15.0), HTML(value='')))"
      ]
     },
     "metadata": {},
     "output_type": "display_data"
    },
    {
     "name": "stdout",
     "output_type": "stream",
     "text": [
      "\n",
      "Train Loss: 0.706599, Acc: 0.550000\n"
     ]
    },
    {
     "data": {
      "application/vnd.jupyter.widget-view+json": {
       "model_id": "a6082bb1e87c4bf0b42a5590ca64c4ab",
       "version_major": 2,
       "version_minor": 0
      },
      "text/plain": [
       "HBox(children=(FloatProgress(value=0.0, max=4.0), HTML(value='')))"
      ]
     },
     "metadata": {},
     "output_type": "display_data"
    },
    {
     "name": "stdout",
     "output_type": "stream",
     "text": [
      "\n",
      "Test Loss: 0.715428, Acc: 0.447917\n",
      "epoch 2\n"
     ]
    },
    {
     "data": {
      "application/vnd.jupyter.widget-view+json": {
       "model_id": "3518a615217c4b9d8918bf2e077d2934",
       "version_major": 2,
       "version_minor": 0
      },
      "text/plain": [
       "HBox(children=(FloatProgress(value=0.0, max=15.0), HTML(value='')))"
      ]
     },
     "metadata": {},
     "output_type": "display_data"
    },
    {
     "name": "stdout",
     "output_type": "stream",
     "text": [
      "\n",
      "Train Loss: 0.624292, Acc: 0.612500\n"
     ]
    },
    {
     "data": {
      "application/vnd.jupyter.widget-view+json": {
       "model_id": "f9362a181ecd49dca60cd11640dab742",
       "version_major": 2,
       "version_minor": 0
      },
      "text/plain": [
       "HBox(children=(FloatProgress(value=0.0, max=4.0), HTML(value='')))"
      ]
     },
     "metadata": {},
     "output_type": "display_data"
    },
    {
     "name": "stdout",
     "output_type": "stream",
     "text": [
      "\n",
      "Test Loss: 0.575518, Acc: 0.619792\n",
      "epoch 3\n"
     ]
    },
    {
     "data": {
      "application/vnd.jupyter.widget-view+json": {
       "model_id": "bdfe349fca284510b2d9b848f2d84ff8",
       "version_major": 2,
       "version_minor": 0
      },
      "text/plain": [
       "HBox(children=(FloatProgress(value=0.0, max=15.0), HTML(value='')))"
      ]
     },
     "metadata": {},
     "output_type": "display_data"
    },
    {
     "name": "stdout",
     "output_type": "stream",
     "text": [
      "\n",
      "Train Loss: 0.341265, Acc: 0.900000\n"
     ]
    },
    {
     "data": {
      "application/vnd.jupyter.widget-view+json": {
       "model_id": "17af26617c53447994782a382f7eaf0d",
       "version_major": 2,
       "version_minor": 0
      },
      "text/plain": [
       "HBox(children=(FloatProgress(value=0.0, max=4.0), HTML(value='')))"
      ]
     },
     "metadata": {},
     "output_type": "display_data"
    },
    {
     "name": "stdout",
     "output_type": "stream",
     "text": [
      "\n",
      "Test Loss: 0.304914, Acc: 0.828125\n",
      "epoch 4\n"
     ]
    },
    {
     "data": {
      "application/vnd.jupyter.widget-view+json": {
       "model_id": "688d0ad158e44be1a13966461fecb970",
       "version_major": 2,
       "version_minor": 0
      },
      "text/plain": [
       "HBox(children=(FloatProgress(value=0.0, max=15.0), HTML(value='')))"
      ]
     },
     "metadata": {},
     "output_type": "display_data"
    },
    {
     "name": "stdout",
     "output_type": "stream",
     "text": [
      "\n",
      "Train Loss: 0.104741, Acc: 0.983333\n"
     ]
    },
    {
     "data": {
      "application/vnd.jupyter.widget-view+json": {
       "model_id": "88f6f2e6413c4f10ab6384fd798ef6d6",
       "version_major": 2,
       "version_minor": 0
      },
      "text/plain": [
       "HBox(children=(FloatProgress(value=0.0, max=4.0), HTML(value='')))"
      ]
     },
     "metadata": {},
     "output_type": "display_data"
    },
    {
     "name": "stdout",
     "output_type": "stream",
     "text": [
      "\n",
      "Test Loss: 0.178420, Acc: 0.906250\n",
      "epoch 5\n"
     ]
    },
    {
     "data": {
      "application/vnd.jupyter.widget-view+json": {
       "model_id": "8998322df45c41cb907ad7cf23778a5d",
       "version_major": 2,
       "version_minor": 0
      },
      "text/plain": [
       "HBox(children=(FloatProgress(value=0.0, max=15.0), HTML(value='')))"
      ]
     },
     "metadata": {},
     "output_type": "display_data"
    },
    {
     "name": "stdout",
     "output_type": "stream",
     "text": [
      "\n",
      "Train Loss: 0.023334, Acc: 0.991667\n"
     ]
    },
    {
     "data": {
      "application/vnd.jupyter.widget-view+json": {
       "model_id": "aa65d70f34a9409a9c2f2a41144cbb86",
       "version_major": 2,
       "version_minor": 0
      },
      "text/plain": [
       "HBox(children=(FloatProgress(value=0.0, max=4.0), HTML(value='')))"
      ]
     },
     "metadata": {},
     "output_type": "display_data"
    },
    {
     "name": "stdout",
     "output_type": "stream",
     "text": [
      "\n",
      "Test Loss: 0.370176, Acc: 0.885417\n",
      "epoch 6\n"
     ]
    },
    {
     "data": {
      "application/vnd.jupyter.widget-view+json": {
       "model_id": "994ce6abf7b945a4aa8cac8137a63769",
       "version_major": 2,
       "version_minor": 0
      },
      "text/plain": [
       "HBox(children=(FloatProgress(value=0.0, max=15.0), HTML(value='')))"
      ]
     },
     "metadata": {},
     "output_type": "display_data"
    },
    {
     "name": "stdout",
     "output_type": "stream",
     "text": [
      "\n",
      "Train Loss: 0.009610, Acc: 1.000000\n"
     ]
    },
    {
     "data": {
      "application/vnd.jupyter.widget-view+json": {
       "model_id": "a17d90fea00f45f98e860a0312778f5a",
       "version_major": 2,
       "version_minor": 0
      },
      "text/plain": [
       "HBox(children=(FloatProgress(value=0.0, max=4.0), HTML(value='')))"
      ]
     },
     "metadata": {},
     "output_type": "display_data"
    },
    {
     "name": "stdout",
     "output_type": "stream",
     "text": [
      "\n",
      "Test Loss: 0.328176, Acc: 0.885417\n",
      "epoch 7\n"
     ]
    },
    {
     "data": {
      "application/vnd.jupyter.widget-view+json": {
       "model_id": "533861df9962458aa5f67a0527cc5bb0",
       "version_major": 2,
       "version_minor": 0
      },
      "text/plain": [
       "HBox(children=(FloatProgress(value=0.0, max=15.0), HTML(value='')))"
      ]
     },
     "metadata": {},
     "output_type": "display_data"
    },
    {
     "name": "stdout",
     "output_type": "stream",
     "text": [
      "\n",
      "Train Loss: 0.002968, Acc: 1.000000\n"
     ]
    },
    {
     "data": {
      "application/vnd.jupyter.widget-view+json": {
       "model_id": "43c020e57ed14ec898500b360abbabe5",
       "version_major": 2,
       "version_minor": 0
      },
      "text/plain": [
       "HBox(children=(FloatProgress(value=0.0, max=4.0), HTML(value='')))"
      ]
     },
     "metadata": {},
     "output_type": "display_data"
    },
    {
     "name": "stdout",
     "output_type": "stream",
     "text": [
      "\n",
      "Test Loss: 0.309749, Acc: 0.932292\n",
      "epoch 8\n"
     ]
    },
    {
     "data": {
      "application/vnd.jupyter.widget-view+json": {
       "model_id": "b9467f669655459fb33a27c84d2c19d8",
       "version_major": 2,
       "version_minor": 0
      },
      "text/plain": [
       "HBox(children=(FloatProgress(value=0.0, max=15.0), HTML(value='')))"
      ]
     },
     "metadata": {},
     "output_type": "display_data"
    },
    {
     "name": "stdout",
     "output_type": "stream",
     "text": [
      "\n",
      "Train Loss: 0.001402, Acc: 1.000000\n"
     ]
    },
    {
     "data": {
      "application/vnd.jupyter.widget-view+json": {
       "model_id": "051c98ff9468419eb561c1d268140946",
       "version_major": 2,
       "version_minor": 0
      },
      "text/plain": [
       "HBox(children=(FloatProgress(value=0.0, max=4.0), HTML(value='')))"
      ]
     },
     "metadata": {},
     "output_type": "display_data"
    },
    {
     "name": "stdout",
     "output_type": "stream",
     "text": [
      "\n",
      "Test Loss: 0.344520, Acc: 0.911458\n",
      "epoch 9\n"
     ]
    },
    {
     "data": {
      "application/vnd.jupyter.widget-view+json": {
       "model_id": "4c450276662544e5b660166203bc3eb0",
       "version_major": 2,
       "version_minor": 0
      },
      "text/plain": [
       "HBox(children=(FloatProgress(value=0.0, max=15.0), HTML(value='')))"
      ]
     },
     "metadata": {},
     "output_type": "display_data"
    },
    {
     "name": "stdout",
     "output_type": "stream",
     "text": [
      "\n",
      "Train Loss: 0.001213, Acc: 1.000000\n"
     ]
    },
    {
     "data": {
      "application/vnd.jupyter.widget-view+json": {
       "model_id": "a69d2a6ff039465181207ceae18ef5a0",
       "version_major": 2,
       "version_minor": 0
      },
      "text/plain": [
       "HBox(children=(FloatProgress(value=0.0, max=4.0), HTML(value='')))"
      ]
     },
     "metadata": {},
     "output_type": "display_data"
    },
    {
     "name": "stdout",
     "output_type": "stream",
     "text": [
      "\n",
      "Test Loss: 0.365005, Acc: 0.911458\n",
      "epoch 10\n"
     ]
    },
    {
     "data": {
      "application/vnd.jupyter.widget-view+json": {
       "model_id": "1003609433664283a1960fa9ddd64db7",
       "version_major": 2,
       "version_minor": 0
      },
      "text/plain": [
       "HBox(children=(FloatProgress(value=0.0, max=15.0), HTML(value='')))"
      ]
     },
     "metadata": {},
     "output_type": "display_data"
    },
    {
     "name": "stdout",
     "output_type": "stream",
     "text": [
      "\n",
      "Train Loss: 0.001198, Acc: 1.000000\n"
     ]
    },
    {
     "data": {
      "application/vnd.jupyter.widget-view+json": {
       "model_id": "450edabe89ab40ee90573d0f594378fe",
       "version_major": 2,
       "version_minor": 0
      },
      "text/plain": [
       "HBox(children=(FloatProgress(value=0.0, max=4.0), HTML(value='')))"
      ]
     },
     "metadata": {},
     "output_type": "display_data"
    },
    {
     "name": "stdout",
     "output_type": "stream",
     "text": [
      "\n",
      "Test Loss: 0.384045, Acc: 0.911458\n"
     ]
    },
    {
     "data": {
      "application/vnd.jupyter.widget-view+json": {
       "model_id": "9c2897687484482bbac664e1bd2c11b9",
       "version_major": 2,
       "version_minor": 0
      },
      "text/plain": [
       "HBox(children=(FloatProgress(value=0.0, max=4.0), HTML(value='')))"
      ]
     },
     "metadata": {},
     "output_type": "display_data"
    },
    {
     "name": "stdout",
     "output_type": "stream",
     "text": [
      "\n",
      "Test Acc: 0.932292\n"
     ]
    }
   ],
   "source": [
    "epoch = 10\n",
    "device = torch.device('cuda' if torch.cuda.is_available() else 'cpu')\n",
    "weight_path = \"cnn_best_weight.pth\"\n",
    "\n",
    "model = VGGNet(pretrained=True).to(device)\n",
    "# model = ResNet(pretrained=True).to(device)\n",
    "# model = LSTMnet(224, 128, 2, 2).to(device)\n",
    "# model = CNNwithLSTM().to(device)\n",
    "# model = GoogleNet().to(device)\n",
    "# model = CNN().to(device)\n",
    "loss_func = nn.CrossEntropyLoss()\n",
    "optimizer = optim.Adam(model.parameters(),1e-4)\n",
    "train_loss_list = []\n",
    "train_accuracy_list = []\n",
    "test_loss_list = []\n",
    "test_accuracy_list = []\n",
    "best_test_accuracy = 0\n",
    "lstm = False\n",
    "\n",
    "for epoch in range(epoch):\n",
    "    print('epoch {}'.format(epoch + 1))\n",
    "    train_loss_list, train_accuracy_list = train_epoch(model, train_dataloader, \\\n",
    "                                                       optimizer, loss_func, train_loss_list, train_accuracy_list,lstm)\n",
    "    test_loss_list, test_accuracy_list, best_test_accuracy = val_epoch(model, val_dataloader, optimizer, loss_func, \\\n",
    "                            test_loss_list, test_accuracy_list, best_test_accuracy,weight_path,lstm)\n",
    "test_result(model, val_dataloader, weight_path)"
   ]
  },
  {
   "cell_type": "code",
   "execution_count": 25,
   "metadata": {},
   "outputs": [
    {
     "data": {
      "application/vnd.jupyter.widget-view+json": {
       "model_id": "c11f46e120df4d20a7dc908ef31c1e9c",
       "version_major": 2,
       "version_minor": 0
      },
      "text/plain": [
       "HBox(children=(FloatProgress(value=0.0, max=4.0), HTML(value='')))"
      ]
     },
     "metadata": {},
     "output_type": "display_data"
    },
    {
     "name": "stdout",
     "output_type": "stream",
     "text": [
      "predict is: tensor([1, 0, 1, 1, 0, 0, 0, 0, 0, 0, 0, 0, 0, 1, 1, 0])\n",
      "actual is: tensor([1, 0, 1, 1, 0, 1, 0, 0, 1, 0, 1, 1, 0, 1, 0, 0])\n",
      "predict is: tensor([1, 0, 1, 0, 0, 0, 1, 1, 0, 0, 0, 1, 1, 1, 0, 1])\n",
      "actual is: tensor([1, 0, 0, 0, 1, 0, 1, 0, 0, 1, 0, 1, 0, 1, 0, 0])\n",
      "predict is: tensor([1, 0, 0, 1, 1, 1, 0, 1, 0, 1, 0, 1, 0, 1, 1, 1])\n",
      "actual is: tensor([1, 0, 1, 1, 1, 0, 0, 1, 1, 1, 0, 0, 0, 0, 0, 1])\n",
      "predict is: tensor([0, 1, 0, 1, 0, 1, 1, 0, 1, 0, 0, 1])\n",
      "actual is: tensor([0, 1, 0, 1, 0, 0, 1, 0, 1, 0, 0, 1])\n",
      "\n"
     ]
    }
   ],
   "source": [
    "# check the prediction labels using validation set\n",
    "model.eval()\n",
    "with torch.no_grad():\n",
    "    for batch_x, batch_y in tqdm(val_dataloader):\n",
    "        batch_x = batch_x.to(device)\n",
    "        batch_y = batch_y.to(device)\n",
    "        \n",
    "        output = model(batch_x)\n",
    "        pred = torch.max(output, dim=1)[1]\n",
    "        print(\"predict is: \" + str(pred.cpu()))\n",
    "        print(\"actual is: \" + str(batch_y.cpu()))"
   ]
  },
  {
   "cell_type": "code",
   "execution_count": null,
   "metadata": {},
   "outputs": [],
   "source": []
  }
 ],
 "metadata": {
  "kernelspec": {
   "display_name": "Python 3",
   "language": "python",
   "name": "python3"
  },
  "language_info": {
   "codemirror_mode": {
    "name": "ipython",
    "version": 3
   },
   "file_extension": ".py",
   "mimetype": "text/x-python",
   "name": "python",
   "nbconvert_exporter": "python",
   "pygments_lexer": "ipython3",
   "version": "3.8.3"
  }
 },
 "nbformat": 4,
 "nbformat_minor": 4
}
